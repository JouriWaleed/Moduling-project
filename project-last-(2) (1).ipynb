{
  "nbformat": 4,
  "nbformat_minor": 5,
  "metadata": {
    "colab": {
      "name": "project_last_(2).ipynb",
      "provenance": [],
      "collapsed_sections": []
    },
    "kernelspec": {
      "display_name": "Python 3",
      "language": "python",
      "name": "python3"
    },
    "language_info": {
      "codemirror_mode": {
        "name": "ipython",
        "version": 3
      },
      "file_extension": ".py",
      "mimetype": "text/x-python",
      "name": "python",
      "nbconvert_exporter": "python",
      "pygments_lexer": "ipython3",
      "version": "3.8.8"
    }
  },
  "cells": [
    {
      "cell_type": "markdown",
      "metadata": {
        "id": "f938eacb"
      },
      "source": [
        "# Freely Falling object"
      ],
      "id": "f938eacb"
    },
    {
      "cell_type": "markdown",
      "metadata": {
        "id": "6ioVwrWm-yIF"
      },
      "source": [
        "A free falling object is any object moving freely under the influnce of gravity alone regardless of its initail motion.\n"
      ],
      "id": "6ioVwrWm-yIF"
    },
    {
      "cell_type": "markdown",
      "metadata": {
        "id": "W7suxQoa_g83"
      },
      "source": [
        "The objective: finding the acceleration for a freely falling object."
      ],
      "id": "W7suxQoa_g83"
    },
    {
      "cell_type": "code",
      "metadata": {
        "id": "05df297f"
      },
      "source": [
        "import pandas as pd\n",
        "Table1={'tools':['D','r (mm)','r (m)'],'measurements':[12,6,0.006]}\n",
        "TableData=pd.DataFrame(Table1)"
      ],
      "id": "05df297f",
      "execution_count": 4,
      "outputs": []
    },
    {
      "cell_type": "code",
      "metadata": {
        "colab": {
          "base_uri": "https://localhost:8080/",
          "height": 150
        },
        "id": "423106f5",
        "outputId": "d4a030c6-37b9-4cf9-c38c-34bcff338400"
      },
      "source": [
        "TableData.style.set_properties(**{'border': '2px solid navy',\n",
        "                          'color': 'purple'})"
      ],
      "id": "423106f5",
      "execution_count": 5,
      "outputs": [
        {
          "output_type": "execute_result",
          "data": {
            "text/html": [
              "<style  type=\"text/css\" >\n",
              "#T_e922d0d4_5db2_11ec_86f8_0242ac1c0002row0_col0,#T_e922d0d4_5db2_11ec_86f8_0242ac1c0002row0_col1,#T_e922d0d4_5db2_11ec_86f8_0242ac1c0002row1_col0,#T_e922d0d4_5db2_11ec_86f8_0242ac1c0002row1_col1,#T_e922d0d4_5db2_11ec_86f8_0242ac1c0002row2_col0,#T_e922d0d4_5db2_11ec_86f8_0242ac1c0002row2_col1{\n",
              "            border:  2px solid navy;\n",
              "            color:  purple;\n",
              "        }</style><table id=\"T_e922d0d4_5db2_11ec_86f8_0242ac1c0002\" class=\"dataframe\"><thead>    <tr>        <th class=\"blank level0\" ></th>        <th class=\"col_heading level0 col0\" >tools</th>        <th class=\"col_heading level0 col1\" >measurements</th>    </tr></thead><tbody>\n",
              "                <tr>\n",
              "                        <th id=\"T_e922d0d4_5db2_11ec_86f8_0242ac1c0002level0_row0\" class=\"row_heading level0 row0\" >0</th>\n",
              "                        <td id=\"T_e922d0d4_5db2_11ec_86f8_0242ac1c0002row0_col0\" class=\"data row0 col0\" >D</td>\n",
              "                        <td id=\"T_e922d0d4_5db2_11ec_86f8_0242ac1c0002row0_col1\" class=\"data row0 col1\" >12.000000</td>\n",
              "            </tr>\n",
              "            <tr>\n",
              "                        <th id=\"T_e922d0d4_5db2_11ec_86f8_0242ac1c0002level0_row1\" class=\"row_heading level0 row1\" >1</th>\n",
              "                        <td id=\"T_e922d0d4_5db2_11ec_86f8_0242ac1c0002row1_col0\" class=\"data row1 col0\" >r (mm)</td>\n",
              "                        <td id=\"T_e922d0d4_5db2_11ec_86f8_0242ac1c0002row1_col1\" class=\"data row1 col1\" >6.000000</td>\n",
              "            </tr>\n",
              "            <tr>\n",
              "                        <th id=\"T_e922d0d4_5db2_11ec_86f8_0242ac1c0002level0_row2\" class=\"row_heading level0 row2\" >2</th>\n",
              "                        <td id=\"T_e922d0d4_5db2_11ec_86f8_0242ac1c0002row2_col0\" class=\"data row2 col0\" >r (m)</td>\n",
              "                        <td id=\"T_e922d0d4_5db2_11ec_86f8_0242ac1c0002row2_col1\" class=\"data row2 col1\" >0.006000</td>\n",
              "            </tr>\n",
              "    </tbody></table>"
            ],
            "text/plain": [
              "<pandas.io.formats.style.Styler at 0x7f0a49684550>"
            ]
          },
          "metadata": {},
          "execution_count": 5
        }
      ]
    },
    {
      "cell_type": "code",
      "metadata": {
        "id": "327fbc62"
      },
      "source": [
        "Table2={'h (cm)':[70,60,50,40,30],'h(m)':[0.7,0.6,0.5,0.4,0.3],\n",
        "        'h-r(m)':[0.69,0.59,0.49,0.39,0.29],\n",
        "        'Time1':[376,348.9,314.2,284.7,247.2]\n",
        "        ,'Time2':[376.4,349.8,315.8,285.6,246.2]}\n",
        "\n"
      ],
      "id": "327fbc62",
      "execution_count": 6,
      "outputs": []
    },
    {
      "cell_type": "code",
      "metadata": {
        "id": "6da41774"
      },
      "source": [
        "TableData2=pd.DataFrame(Table2)\n",
        "Avrage=lambda x1,x2:((x1+x2)/2)*10**-3\n",
        "Tsequerd=lambda x: x**2"
      ],
      "id": "6da41774",
      "execution_count": 7,
      "outputs": []
    },
    {
      "cell_type": "code",
      "metadata": {
        "id": "3db69936"
      },
      "source": [
        "TableData2['Tavrage']=Avrage(TableData2.Time1,TableData2.Time2)"
      ],
      "id": "3db69936",
      "execution_count": 8,
      "outputs": []
    },
    {
      "cell_type": "code",
      "metadata": {
        "id": "63a39d53"
      },
      "source": [
        "TableData2['T^2']=Tsequerd(TableData2.Tavrage)"
      ],
      "id": "63a39d53",
      "execution_count": 9,
      "outputs": []
    },
    {
      "cell_type": "code",
      "metadata": {
        "colab": {
          "base_uri": "https://localhost:8080/",
          "height": 217
        },
        "id": "9df831b4",
        "outputId": "07e2658e-74c4-49e9-fc35-e87eb70e53d2"
      },
      "source": [
        "TableData2.style.set_properties(**{'border': '2px solid navy',\n",
        "                          'color': 'purple'})\n"
      ],
      "id": "9df831b4",
      "execution_count": 10,
      "outputs": [
        {
          "output_type": "execute_result",
          "data": {
            "text/html": [
              "<style  type=\"text/css\" >\n",
              "#T_eaf21032_5db2_11ec_86f8_0242ac1c0002row0_col0,#T_eaf21032_5db2_11ec_86f8_0242ac1c0002row0_col1,#T_eaf21032_5db2_11ec_86f8_0242ac1c0002row0_col2,#T_eaf21032_5db2_11ec_86f8_0242ac1c0002row0_col3,#T_eaf21032_5db2_11ec_86f8_0242ac1c0002row0_col4,#T_eaf21032_5db2_11ec_86f8_0242ac1c0002row0_col5,#T_eaf21032_5db2_11ec_86f8_0242ac1c0002row0_col6,#T_eaf21032_5db2_11ec_86f8_0242ac1c0002row1_col0,#T_eaf21032_5db2_11ec_86f8_0242ac1c0002row1_col1,#T_eaf21032_5db2_11ec_86f8_0242ac1c0002row1_col2,#T_eaf21032_5db2_11ec_86f8_0242ac1c0002row1_col3,#T_eaf21032_5db2_11ec_86f8_0242ac1c0002row1_col4,#T_eaf21032_5db2_11ec_86f8_0242ac1c0002row1_col5,#T_eaf21032_5db2_11ec_86f8_0242ac1c0002row1_col6,#T_eaf21032_5db2_11ec_86f8_0242ac1c0002row2_col0,#T_eaf21032_5db2_11ec_86f8_0242ac1c0002row2_col1,#T_eaf21032_5db2_11ec_86f8_0242ac1c0002row2_col2,#T_eaf21032_5db2_11ec_86f8_0242ac1c0002row2_col3,#T_eaf21032_5db2_11ec_86f8_0242ac1c0002row2_col4,#T_eaf21032_5db2_11ec_86f8_0242ac1c0002row2_col5,#T_eaf21032_5db2_11ec_86f8_0242ac1c0002row2_col6,#T_eaf21032_5db2_11ec_86f8_0242ac1c0002row3_col0,#T_eaf21032_5db2_11ec_86f8_0242ac1c0002row3_col1,#T_eaf21032_5db2_11ec_86f8_0242ac1c0002row3_col2,#T_eaf21032_5db2_11ec_86f8_0242ac1c0002row3_col3,#T_eaf21032_5db2_11ec_86f8_0242ac1c0002row3_col4,#T_eaf21032_5db2_11ec_86f8_0242ac1c0002row3_col5,#T_eaf21032_5db2_11ec_86f8_0242ac1c0002row3_col6,#T_eaf21032_5db2_11ec_86f8_0242ac1c0002row4_col0,#T_eaf21032_5db2_11ec_86f8_0242ac1c0002row4_col1,#T_eaf21032_5db2_11ec_86f8_0242ac1c0002row4_col2,#T_eaf21032_5db2_11ec_86f8_0242ac1c0002row4_col3,#T_eaf21032_5db2_11ec_86f8_0242ac1c0002row4_col4,#T_eaf21032_5db2_11ec_86f8_0242ac1c0002row4_col5,#T_eaf21032_5db2_11ec_86f8_0242ac1c0002row4_col6{\n",
              "            border:  2px solid navy;\n",
              "            color:  purple;\n",
              "        }</style><table id=\"T_eaf21032_5db2_11ec_86f8_0242ac1c0002\" class=\"dataframe\"><thead>    <tr>        <th class=\"blank level0\" ></th>        <th class=\"col_heading level0 col0\" >h (cm)</th>        <th class=\"col_heading level0 col1\" >h(m)</th>        <th class=\"col_heading level0 col2\" >h-r(m)</th>        <th class=\"col_heading level0 col3\" >Time1</th>        <th class=\"col_heading level0 col4\" >Time2</th>        <th class=\"col_heading level0 col5\" >Tavrage</th>        <th class=\"col_heading level0 col6\" >T^2</th>    </tr></thead><tbody>\n",
              "                <tr>\n",
              "                        <th id=\"T_eaf21032_5db2_11ec_86f8_0242ac1c0002level0_row0\" class=\"row_heading level0 row0\" >0</th>\n",
              "                        <td id=\"T_eaf21032_5db2_11ec_86f8_0242ac1c0002row0_col0\" class=\"data row0 col0\" >70</td>\n",
              "                        <td id=\"T_eaf21032_5db2_11ec_86f8_0242ac1c0002row0_col1\" class=\"data row0 col1\" >0.700000</td>\n",
              "                        <td id=\"T_eaf21032_5db2_11ec_86f8_0242ac1c0002row0_col2\" class=\"data row0 col2\" >0.690000</td>\n",
              "                        <td id=\"T_eaf21032_5db2_11ec_86f8_0242ac1c0002row0_col3\" class=\"data row0 col3\" >376.000000</td>\n",
              "                        <td id=\"T_eaf21032_5db2_11ec_86f8_0242ac1c0002row0_col4\" class=\"data row0 col4\" >376.400000</td>\n",
              "                        <td id=\"T_eaf21032_5db2_11ec_86f8_0242ac1c0002row0_col5\" class=\"data row0 col5\" >0.376200</td>\n",
              "                        <td id=\"T_eaf21032_5db2_11ec_86f8_0242ac1c0002row0_col6\" class=\"data row0 col6\" >0.141526</td>\n",
              "            </tr>\n",
              "            <tr>\n",
              "                        <th id=\"T_eaf21032_5db2_11ec_86f8_0242ac1c0002level0_row1\" class=\"row_heading level0 row1\" >1</th>\n",
              "                        <td id=\"T_eaf21032_5db2_11ec_86f8_0242ac1c0002row1_col0\" class=\"data row1 col0\" >60</td>\n",
              "                        <td id=\"T_eaf21032_5db2_11ec_86f8_0242ac1c0002row1_col1\" class=\"data row1 col1\" >0.600000</td>\n",
              "                        <td id=\"T_eaf21032_5db2_11ec_86f8_0242ac1c0002row1_col2\" class=\"data row1 col2\" >0.590000</td>\n",
              "                        <td id=\"T_eaf21032_5db2_11ec_86f8_0242ac1c0002row1_col3\" class=\"data row1 col3\" >348.900000</td>\n",
              "                        <td id=\"T_eaf21032_5db2_11ec_86f8_0242ac1c0002row1_col4\" class=\"data row1 col4\" >349.800000</td>\n",
              "                        <td id=\"T_eaf21032_5db2_11ec_86f8_0242ac1c0002row1_col5\" class=\"data row1 col5\" >0.349350</td>\n",
              "                        <td id=\"T_eaf21032_5db2_11ec_86f8_0242ac1c0002row1_col6\" class=\"data row1 col6\" >0.122045</td>\n",
              "            </tr>\n",
              "            <tr>\n",
              "                        <th id=\"T_eaf21032_5db2_11ec_86f8_0242ac1c0002level0_row2\" class=\"row_heading level0 row2\" >2</th>\n",
              "                        <td id=\"T_eaf21032_5db2_11ec_86f8_0242ac1c0002row2_col0\" class=\"data row2 col0\" >50</td>\n",
              "                        <td id=\"T_eaf21032_5db2_11ec_86f8_0242ac1c0002row2_col1\" class=\"data row2 col1\" >0.500000</td>\n",
              "                        <td id=\"T_eaf21032_5db2_11ec_86f8_0242ac1c0002row2_col2\" class=\"data row2 col2\" >0.490000</td>\n",
              "                        <td id=\"T_eaf21032_5db2_11ec_86f8_0242ac1c0002row2_col3\" class=\"data row2 col3\" >314.200000</td>\n",
              "                        <td id=\"T_eaf21032_5db2_11ec_86f8_0242ac1c0002row2_col4\" class=\"data row2 col4\" >315.800000</td>\n",
              "                        <td id=\"T_eaf21032_5db2_11ec_86f8_0242ac1c0002row2_col5\" class=\"data row2 col5\" >0.315000</td>\n",
              "                        <td id=\"T_eaf21032_5db2_11ec_86f8_0242ac1c0002row2_col6\" class=\"data row2 col6\" >0.099225</td>\n",
              "            </tr>\n",
              "            <tr>\n",
              "                        <th id=\"T_eaf21032_5db2_11ec_86f8_0242ac1c0002level0_row3\" class=\"row_heading level0 row3\" >3</th>\n",
              "                        <td id=\"T_eaf21032_5db2_11ec_86f8_0242ac1c0002row3_col0\" class=\"data row3 col0\" >40</td>\n",
              "                        <td id=\"T_eaf21032_5db2_11ec_86f8_0242ac1c0002row3_col1\" class=\"data row3 col1\" >0.400000</td>\n",
              "                        <td id=\"T_eaf21032_5db2_11ec_86f8_0242ac1c0002row3_col2\" class=\"data row3 col2\" >0.390000</td>\n",
              "                        <td id=\"T_eaf21032_5db2_11ec_86f8_0242ac1c0002row3_col3\" class=\"data row3 col3\" >284.700000</td>\n",
              "                        <td id=\"T_eaf21032_5db2_11ec_86f8_0242ac1c0002row3_col4\" class=\"data row3 col4\" >285.600000</td>\n",
              "                        <td id=\"T_eaf21032_5db2_11ec_86f8_0242ac1c0002row3_col5\" class=\"data row3 col5\" >0.285150</td>\n",
              "                        <td id=\"T_eaf21032_5db2_11ec_86f8_0242ac1c0002row3_col6\" class=\"data row3 col6\" >0.081311</td>\n",
              "            </tr>\n",
              "            <tr>\n",
              "                        <th id=\"T_eaf21032_5db2_11ec_86f8_0242ac1c0002level0_row4\" class=\"row_heading level0 row4\" >4</th>\n",
              "                        <td id=\"T_eaf21032_5db2_11ec_86f8_0242ac1c0002row4_col0\" class=\"data row4 col0\" >30</td>\n",
              "                        <td id=\"T_eaf21032_5db2_11ec_86f8_0242ac1c0002row4_col1\" class=\"data row4 col1\" >0.300000</td>\n",
              "                        <td id=\"T_eaf21032_5db2_11ec_86f8_0242ac1c0002row4_col2\" class=\"data row4 col2\" >0.290000</td>\n",
              "                        <td id=\"T_eaf21032_5db2_11ec_86f8_0242ac1c0002row4_col3\" class=\"data row4 col3\" >247.200000</td>\n",
              "                        <td id=\"T_eaf21032_5db2_11ec_86f8_0242ac1c0002row4_col4\" class=\"data row4 col4\" >246.200000</td>\n",
              "                        <td id=\"T_eaf21032_5db2_11ec_86f8_0242ac1c0002row4_col5\" class=\"data row4 col5\" >0.246700</td>\n",
              "                        <td id=\"T_eaf21032_5db2_11ec_86f8_0242ac1c0002row4_col6\" class=\"data row4 col6\" >0.060861</td>\n",
              "            </tr>\n",
              "    </tbody></table>"
            ],
            "text/plain": [
              "<pandas.io.formats.style.Styler at 0x7f0a45bd4890>"
            ]
          },
          "metadata": {},
          "execution_count": 10
        }
      ]
    },
    {
      "cell_type": "code",
      "metadata": {
        "colab": {
          "base_uri": "https://localhost:8080/",
          "height": 296
        },
        "id": "65ff7d56",
        "outputId": "b1598098-69b1-4adf-e6a6-39ad950946ee"
      },
      "source": [
        "#ploting h-r(m) vs t^2\n",
        "import matplotlib.pyplot as plt\n",
        "x=TableData2['T^2']\n",
        "y=TableData2['h-r(m)']\n",
        "plt.plot(x,y, color='navy', LineWidth=2)\n",
        "plt.style.use('ggplot')\n",
        "plt.xlabel('t(sec)', color='purple')\n",
        "plt.ylabel('h-r (m)',color='purple')\n",
        "plt.title('t VS h-r', color='purple')\n",
        "plt.grid()\n",
        "plt.show()\n"
      ],
      "id": "65ff7d56",
      "execution_count": 11,
      "outputs": [
        {
          "output_type": "display_data",
          "data": {
            "image/png": "[encoded data removed]",
            "text/plain": [
              "<Figure size 432x288 with 1 Axes>"
            ]
          },
          "metadata": {
            "needs_background": "light"
          }
        }
      ]
    },
    {
      "cell_type": "code",
      "metadata": {
        "colab": {
          "base_uri": "https://localhost:8080/"
        },
        "id": "461d5816",
        "outputId": "182cac40-b32d-4b83-fdc5-5118bef3b6bb"
      },
      "source": [
        "#findig the slpoe from the plot\n",
        "import numpy as np\n",
        "s = np.polyfit(x,y,1)\n",
        "print(s.round(0))\n"
      ],
      "id": "461d5816",
      "execution_count": 15,
      "outputs": [
        {
          "output_type": "stream",
          "name": "stdout",
          "text": [
            "[ 5. -0.]\n"
          ]
        }
      ]
    },
    {
      "cell_type": "code",
      "metadata": {
        "colab": {
          "base_uri": "https://localhost:8080/"
        },
        "id": "75d26c94",
        "outputId": "0824bc40-091c-405b-957e-b23949999cb7"
      },
      "source": [
        "#finding the gravity acceleration\n",
        "g=2*s\n",
        "print('The gravity acceleration is : g= ',g.round(2),'m/s^s2')"
      ],
      "id": "75d26c94",
      "execution_count": 36,
      "outputs": [
        {
          "output_type": "stream",
          "name": "stdout",
          "text": [
            "The gravity acceleration is : g=  [ 9.89 -0.02] m/s^s2\n"
          ]
        }
      ]
    },
    {
      "cell_type": "code",
      "metadata": {
        "id": "C4QcJVBzyd4-",
        "colab": {
          "base_uri": "https://localhost:8080/"
        },
        "outputId": "daae68d2-7d53-4397-924a-2a439d1d9f98"
      },
      "source": [
        "\n",
        "# we have already knew the theoretical value of the gravity acceleration to be g= 9.8 m/_^2 \n",
        "# to find the percentage error between the experiment and theoretical value\n",
        "g_exp=9.89\n",
        "g_theo=9.8\n",
        "the_percentage_error=((g_exp-g_theo)/(g_theo))*100\n",
        "print(\"The percentage error between the the experiment and theoretical value of the gravity acceleration is = \",round(the_percentage_error,1),'%')\n"
      ],
      "id": "C4QcJVBzyd4-",
      "execution_count": 35,
      "outputs": [
        {
          "output_type": "stream",
          "name": "stdout",
          "text": [
            "the percentage error between the the experiment and theoretical value of the gravity acceleration is =  0.9 %\n"
          ]
        }
      ]
    },
    {
      "cell_type": "code",
      "source": [
        ""
      ],
      "metadata": {
        "id": "QxO90wRcglsb"
      },
      "id": "QxO90wRcglsb",
      "execution_count": null,
      "outputs": []
    }
  ]
}